{
 "cells": [
  {
   "cell_type": "code",
   "execution_count": 6,
   "metadata": {},
   "outputs": [
    {
     "name": "stdout",
     "output_type": "stream",
     "text": [
      "Enter the No. of routers : \n",
      "5\n",
      "Enter the Adjacency Matrix(999 for infinity) :\n",
      "0 1 1 999 999\n",
      "1 0 999 1 1\n",
      "1 999 0 1 999\n",
      "999 1 1 0 1\n",
      "999 1 999 1 0\n",
      "Vector Table of A\n",
      "A\t0\n",
      "B\t1\n",
      "C\t1\n",
      "D\t2\n",
      "E\t2\n",
      "Vector Table of B\n",
      "A\t1\n",
      "B\t0\n",
      "C\t2\n",
      "D\t1\n",
      "E\t1\n",
      "Vector Table of C\n",
      "A\t1\n",
      "B\t2\n",
      "C\t0\n",
      "D\t1\n",
      "E\t2\n",
      "Vector Table of D\n",
      "A\t2\n",
      "B\t1\n",
      "C\t1\n",
      "D\t0\n",
      "E\t1\n",
      "Vector Table of E\n",
      "A\t2\n",
      "B\t1\n",
      "C\t2\n",
      "D\t1\n",
      "E\t0\n"
     ]
    }
   ],
   "source": [
    "class DistVector:\n",
    "    def __init__(self,n):\n",
    "        self.matrix=[]\n",
    "        self.n=n \n",
    "        \n",
    "    def newEdge(self, u, v, w):  \n",
    "        self.matrix.append((u, v, w)) \n",
    "        \n",
    "    def display(self, dist,src):\n",
    "        print(\"Vector Table of {}\".format(chr(ord('A')+src)))  \n",
    "        for i in range(self.n):  \n",
    "            print(\"{0}\\t{1}\".format(chr(ord('A')+i), dist[i]))  \n",
    "     \n",
    "    def start(self, src):  \n",
    "  \n",
    "        dist = [99] * self.n \n",
    "        dist[src] = 0\n",
    "  \n",
    "        for _ in range(self.n - 1):  \n",
    "          \n",
    "            for u, v, w in self.matrix:  \n",
    "                if dist[u] != 99 and dist[u] + w < dist[v]:  \n",
    "                        dist[v] = dist[u] + w  \n",
    "                       \n",
    "        \n",
    "        self.display(dist,src)\n",
    "        \n",
    "matrix=[]\n",
    "print(\"Enter the No. of routers : \")\n",
    "n=int(input())\n",
    "print(\"Enter the Adjacency Matrix(999 for infinity) :\");\n",
    "for i in range(n):\n",
    "    m=list(map(int,input().split(\" \")))\n",
    "    matrix.append(m)\n",
    "g=DistVector(n)\n",
    "for i in range(n):\n",
    "    for j in range(n):\n",
    "        if matrix[i][j]==1:\n",
    "            g.newEdge(i,j,1)\n",
    "\n",
    "for _ in range(n):\n",
    "    g.start(_)"
   ]
  },
  {
   "cell_type": "code",
   "execution_count": null,
   "metadata": {},
   "outputs": [],
   "source": []
  }
 ],
 "metadata": {
  "kernelspec": {
   "display_name": "Python 3",
   "language": "python",
   "name": "python3"
  },
  "language_info": {
   "codemirror_mode": {
    "name": "ipython",
    "version": 3
   },
   "file_extension": ".py",
   "mimetype": "text/x-python",
   "name": "python",
   "nbconvert_exporter": "python",
   "pygments_lexer": "ipython3",
   "version": "3.8.3"
  }
 },
 "nbformat": 4,
 "nbformat_minor": 4
}
